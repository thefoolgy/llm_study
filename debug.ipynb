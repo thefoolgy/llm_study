{
 "cells": [
  {
   "cell_type": "code",
   "execution_count": 1,
   "metadata": {},
   "outputs": [],
   "source": [
    "import torch"
   ]
  },
  {
   "cell_type": "code",
   "execution_count": 3,
   "metadata": {},
   "outputs": [
    {
     "name": "stdout",
     "output_type": "stream",
     "text": [
      "5430780832\n",
      "5430781952\n",
      "5430780912\n",
      "5430780912\n"
     ]
    }
   ],
   "source": [
    "import torch\n",
    "state = {}\n",
    "\n",
    "# your style\n",
    "m = state.get(\"m\", torch.zeros(1))\n",
    "m = 0.9*m + 0.1*torch.tensor([1.0])\n",
    "state[\"m\"] = m\n",
    "print(id(state[\"m\"]))  # ID 1\n",
    "m = state.get(\"m\")\n",
    "m = 0.9*m + 0.1*torch.tensor([1.0])\n",
    "state[\"m\"] = m\n",
    "print(id(state[\"m\"]))  # ID 2 → new tensor!\n",
    "\n",
    "# correct style\n",
    "state = {'m': torch.zeros(1)}\n",
    "print(id(state[\"m\"]))  # ID 3\n",
    "state[\"m\"].mul_(0.9).add_(torch.tensor([1.0]), alpha=0.1)\n",
    "print(id(state[\"m\"]))  # still ID 3 → same tensor updated\n"
   ]
  },
  {
   "cell_type": "code",
   "execution_count": null,
   "metadata": {},
   "outputs": [],
   "source": []
  }
 ],
 "metadata": {
  "kernelspec": {
   "display_name": "cl-fair",
   "language": "python",
   "name": "python3"
  },
  "language_info": {
   "codemirror_mode": {
    "name": "ipython",
    "version": 3
   },
   "file_extension": ".py",
   "mimetype": "text/x-python",
   "name": "python",
   "nbconvert_exporter": "python",
   "pygments_lexer": "ipython3",
   "version": "3.12.2"
  }
 },
 "nbformat": 4,
 "nbformat_minor": 2
}
